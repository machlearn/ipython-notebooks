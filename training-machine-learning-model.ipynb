{
 "metadata": {
  "name": "",
  "signature": "sha256:97bf345f9ecdd063fb682ecb29be31b43f4bf2cd4f0ecbda0304afc04ac4f808"
 },
 "nbformat": 3,
 "nbformat_minor": 0,
 "worksheets": [
  {
   "cells": [
    {
     "cell_type": "markdown",
     "metadata": {},
     "source": [
      "https://www.youtube.com/watch?v=RlQuVL6-qe8&index=4&list=PL5-da3qGB5ICeMbQuqbbCOQWcS6OYBr5A"
     ]
    },
    {
     "cell_type": "heading",
     "level": 3,
     "metadata": {},
     "source": [
      "Reviewing the iris dataset"
     ]
    },
    {
     "cell_type": "heading",
     "level": 2,
     "metadata": {},
     "source": [
      "K-nearest neighbors (KNN) classification "
     ]
    },
    {
     "cell_type": "markdown",
     "metadata": {},
     "source": [
      "- Pick a value for K \n",
      "- Search for K observations in the training data that are \"nearest\" to the measurements of the unknown Iris. \n",
      "- use the most popular response value from the K nearest neighbors as the predicted response value for the unknown Iris. "
     ]
    },
    {
     "cell_type": "code",
     "collapsed": false,
     "input": [
      "# import load_iris function from datasets module \n",
      "from sklearn.datasets import load_iris\n",
      "\n",
      "iris = load_iris()\n",
      "X = iris.data\n",
      "y = iris.target\n",
      "print X.shape\n",
      "print y.shape"
     ],
     "language": "python",
     "metadata": {},
     "outputs": [
      {
       "output_type": "stream",
       "stream": "stdout",
       "text": [
        "(150L, 4L)\n",
        "(150L,)\n"
       ]
      }
     ],
     "prompt_number": 6
    },
    {
     "cell_type": "heading",
     "level": 2,
     "metadata": {},
     "source": [
      "skikit-learn 4-step modeling pattern "
     ]
    },
    {
     "cell_type": "markdown",
     "metadata": {},
     "source": [
      "- Step1: import the class you plan to use "
     ]
    },
    {
     "cell_type": "code",
     "collapsed": false,
     "input": [
      "from sklearn.neighbors import KNeighborsClassifier "
     ],
     "language": "python",
     "metadata": {},
     "outputs": [],
     "prompt_number": 7
    },
    {
     "cell_type": "markdown",
     "metadata": {},
     "source": [
      "- Step 2: \"Instantiate\" the \"estimator\"\n",
      "  + \"Estimator\" is scikit-learn's term for model \n",
      "  + \"Instantiate\" means \"makes an instance of\" "
     ]
    },
    {
     "cell_type": "code",
     "collapsed": false,
     "input": [
      "knn = KNeighborsClassifier(n_neighbors=1)"
     ],
     "language": "python",
     "metadata": {},
     "outputs": [],
     "prompt_number": 8
    },
    {
     "cell_type": "markdown",
     "metadata": {},
     "source": [
      "     + Name of the object does not matter\n",
      "    + Can specify tuning parameters during this step\n",
      "    + All parameters not specified are set to defaults. "
     ]
    },
    {
     "cell_type": "code",
     "collapsed": false,
     "input": [
      "print knn"
     ],
     "language": "python",
     "metadata": {},
     "outputs": [
      {
       "output_type": "stream",
       "stream": "stdout",
       "text": [
        "KNeighborsClassifier(algorithm='auto', leaf_size=30, metric='minkowski',\n",
        "           metric_params=None, n_neighbors=1, p=2, weights='uniform')\n"
       ]
      }
     ],
     "prompt_number": 9
    },
    {
     "cell_type": "markdown",
     "metadata": {},
     "source": [
      "- Step 3: Fit the model with data (\"model training\")\n",
      "    + Model is learning the relationship between X and y\n",
      "    + Occurs in-place "
     ]
    },
    {
     "cell_type": "code",
     "collapsed": false,
     "input": [
      "knn.fit(X,y)"
     ],
     "language": "python",
     "metadata": {},
     "outputs": [
      {
       "metadata": {},
       "output_type": "pyout",
       "prompt_number": 10,
       "text": [
        "KNeighborsClassifier(algorithm='auto', leaf_size=30, metric='minkowski',\n",
        "           metric_params=None, n_neighbors=1, p=2, weights='uniform')"
       ]
      }
     ],
     "prompt_number": 10
    },
    {
     "cell_type": "markdown",
     "metadata": {},
     "source": [
      "- Step 4: predict the response for a new observation\n",
      "    + New observations are called \"out-of-sample\" data \n",
      "    + Uses the information it learned during the model training shape \n",
      "    "
     ]
    },
    {
     "cell_type": "code",
     "collapsed": false,
     "input": [
      "knn.predict([3,5,4,2])"
     ],
     "language": "python",
     "metadata": {},
     "outputs": [
      {
       "metadata": {},
       "output_type": "pyout",
       "prompt_number": 11,
       "text": [
        "array([2])"
       ]
      }
     ],
     "prompt_number": 11
    },
    {
     "cell_type": "code",
     "collapsed": false,
     "input": [
      "X_new = [[3,5,4,2], [5,4,3,2]]\n",
      "knn.predict(X_new)\n"
     ],
     "language": "python",
     "metadata": {},
     "outputs": [
      {
       "metadata": {},
       "output_type": "pyout",
       "prompt_number": 12,
       "text": [
        "array([2, 1])"
       ]
      }
     ],
     "prompt_number": 12
    },
    {
     "cell_type": "heading",
     "level": 2,
     "metadata": {},
     "source": [
      "Using a different value for K \n"
     ]
    },
    {
     "cell_type": "code",
     "collapsed": false,
     "input": [
      "knn = KNeighborsClassifier(n_neighbors=5)\n",
      "\n",
      "knn.fit(X,y)\n",
      "knn.predict(X_new)"
     ],
     "language": "python",
     "metadata": {},
     "outputs": [
      {
       "metadata": {},
       "output_type": "pyout",
       "prompt_number": 13,
       "text": [
        "array([1, 1])"
       ]
      }
     ],
     "prompt_number": 13
    },
    {
     "cell_type": "heading",
     "level": 2,
     "metadata": {},
     "source": [
      "Using a different classification model "
     ]
    },
    {
     "cell_type": "code",
     "collapsed": false,
     "input": [
      "from sklearn.linear_model import LogisticRegression\n",
      "\n",
      "logreg = LogisticRegression()\n",
      "\n",
      "logreg.fit(X,y)\n",
      "\n",
      "logreg.predict(X_new)"
     ],
     "language": "python",
     "metadata": {},
     "outputs": [
      {
       "metadata": {},
       "output_type": "pyout",
       "prompt_number": 14,
       "text": [
        "array([2, 0])"
       ]
      }
     ],
     "prompt_number": 14
    },
    {
     "cell_type": "code",
     "collapsed": false,
     "input": [],
     "language": "python",
     "metadata": {},
     "outputs": []
    }
   ],
   "metadata": {}
  }
 ]
}