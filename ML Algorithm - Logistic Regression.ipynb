{
 "cells": [
  {
   "cell_type": "markdown",
   "metadata": {},
   "source": [
    "Logistic Regression is a linear model for classificiation rather than regression. Also known as logit expression, maximum-entropy classfication (MaxEnt) or the log-linear classifier. \n",
    "\n",
    "In `scikit-learn`, the implementation of Logistic Regression can be accessed from class `LogisticRegression`.\n",
    "\n",
    "## Formulation\n",
    "Binary class L2 penalized logistic regression minimizes the following cost function:\n",
    "\n",
    "$min_{w,c} \\frac{1}{2}w^T w + C \\sum _{i=1}^{n}log(exp(-y_i(X_i^T w + c)) + 1)$"
   ]
  },
  {
   "cell_type": "markdown",
   "metadata": {},
   "source": [
    "L1 regularized logistic regression solves the following optimization problem:\n",
    "    \n",
    "$min_{w,c} ||w||_1 + C \\sum _{i=1}^{n}log(exp(-y_i(X_i^T w + c)) + 1)$"
   ]
  },
  {
   "cell_type": "markdown",
   "metadata": {},
   "source": [
    "The solver implemented in the class `LogisticRegression` are \"liblinear\", \"newton-cg\", \"lbfgs\", and \"sag\"\n",
    "\n",
    "One way to choose solver:\n",
    "\n",
    "        Case                               Solver\n",
    "        Small dataset or L1 penalty        \"liblinear\"\n",
    "        Multinomial loss                   \"lbfgs\" or \"newton-cg\"\n",
    "        Large dataset                      \"sag\"\n",
    "        \n"
   ]
  },
  {
   "cell_type": "markdown",
   "metadata": {},
   "source": [
    "## Cross validation\n",
    "`LogisticRegressionCV` implements Logistic Regression with builtin cross-validation to find out the optimal C parameter. \n",
    "\n",
    "\"newton-cg\", \"sag\" and \"lbfgs\" solvers are found to be faster for high-dimensional dense data, due to its warm-starting. \n",
    "\n"
   ]
  },
  {
   "cell_type": "markdown",
   "metadata": {},
   "source": [
    "## Questions\n",
    "\n"
   ]
  },
  {
   "cell_type": "markdown",
   "metadata": {},
   "source": [
    "## References\n",
    "- [scikit-learn: Logistic Regression](http://scikit-learn.org/stable/modules/linear_model.html#logistic-regression)\n",
    "- [CMU - Logistic Regression](http://www.stat.cmu.edu/~cshalizi/uADA/12/lectures/ch12.pdf)"
   ]
  },
  {
   "cell_type": "code",
   "execution_count": null,
   "metadata": {
    "collapsed": true
   },
   "outputs": [],
   "source": []
  }
 ],
 "metadata": {
  "anaconda-cloud": {},
  "kernelspec": {
   "display_name": "Python [Root]",
   "language": "python",
   "name": "Python [Root]"
  },
  "language_info": {
   "codemirror_mode": {
    "name": "ipython",
    "version": 2
   },
   "file_extension": ".py",
   "mimetype": "text/x-python",
   "name": "python",
   "nbconvert_exporter": "python",
   "pygments_lexer": "ipython2",
   "version": "2.7.12"
  }
 },
 "nbformat": 4,
 "nbformat_minor": 0
}
