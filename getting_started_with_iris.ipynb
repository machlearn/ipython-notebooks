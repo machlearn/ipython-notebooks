{
 "metadata": {
  "name": "",
  "signature": "sha256:5b66ab37b51c5497e6c1f3ef2d23c2203cf4b4b33d2f379526cf025ca3cfd394"
 },
 "nbformat": 3,
 "nbformat_minor": 0,
 "worksheets": [
  {
   "cells": [
    {
     "cell_type": "markdown",
     "metadata": {},
     "source": [
      "https://www.youtube.com/watch?v=hd1W4CyPX58&list=PL5-da3qGB5ICeMbQuqbbCOQWcS6OYBr5A&index=3"
     ]
    },
    {
     "cell_type": "code",
     "collapsed": false,
     "input": [
      "from IPython.display import HTML\n",
      "HTML('<iframe src=http://archive.ics.uci.edu/ml/machine-learning-databases/iris/iris.data width=300 height=200></iframe>')"
     ],
     "language": "python",
     "metadata": {},
     "outputs": [
      {
       "html": [
        "<iframe src=http://archive.ics.uci.edu/ml/machine-learning-databases/iris/iris.data width=300 height=200></iframe>"
       ],
       "metadata": {},
       "output_type": "pyout",
       "prompt_number": 1,
       "text": [
        "<IPython.core.display.HTML at 0x60ac438>"
       ]
      }
     ],
     "prompt_number": 1
    },
    {
     "cell_type": "markdown",
     "metadata": {},
     "source": [
      "Iris is a famous dataset for machine learning because prediction is easy. It is also built into scikit-learn "
     ]
    },
    {
     "cell_type": "code",
     "collapsed": false,
     "input": [
      "# import load_iris function from datasets module \n",
      "from sklearn.datasets import load_iris\n",
      "#save \"bunch\" object containing iris dataset and its attributes \n",
      "iris = load_iris()\n",
      "type(iris)"
     ],
     "language": "python",
     "metadata": {},
     "outputs": [
      {
       "metadata": {},
       "output_type": "pyout",
       "prompt_number": 3,
       "text": [
        "sklearn.datasets.base.Bunch"
       ]
      }
     ],
     "prompt_number": 3
    },
    {
     "cell_type": "code",
     "collapsed": false,
     "input": [
      "# print the iris data \n",
      "print iris.data"
     ],
     "language": "python",
     "metadata": {},
     "outputs": [
      {
       "output_type": "stream",
       "stream": "stdout",
       "text": [
        "[[ 5.1  3.5  1.4  0.2]\n",
        " [ 4.9  3.   1.4  0.2]\n",
        " [ 4.7  3.2  1.3  0.2]\n",
        " [ 4.6  3.1  1.5  0.2]\n",
        " [ 5.   3.6  1.4  0.2]\n",
        " [ 5.4  3.9  1.7  0.4]\n",
        " [ 4.6  3.4  1.4  0.3]\n",
        " [ 5.   3.4  1.5  0.2]\n",
        " [ 4.4  2.9  1.4  0.2]\n",
        " [ 4.9  3.1  1.5  0.1]\n",
        " [ 5.4  3.7  1.5  0.2]\n",
        " [ 4.8  3.4  1.6  0.2]\n",
        " [ 4.8  3.   1.4  0.1]\n",
        " [ 4.3  3.   1.1  0.1]\n",
        " [ 5.8  4.   1.2  0.2]\n",
        " [ 5.7  4.4  1.5  0.4]\n",
        " [ 5.4  3.9  1.3  0.4]\n",
        " [ 5.1  3.5  1.4  0.3]\n",
        " [ 5.7  3.8  1.7  0.3]\n",
        " [ 5.1  3.8  1.5  0.3]\n",
        " [ 5.4  3.4  1.7  0.2]\n",
        " [ 5.1  3.7  1.5  0.4]\n",
        " [ 4.6  3.6  1.   0.2]\n",
        " [ 5.1  3.3  1.7  0.5]\n",
        " [ 4.8  3.4  1.9  0.2]\n",
        " [ 5.   3.   1.6  0.2]\n",
        " [ 5.   3.4  1.6  0.4]\n",
        " [ 5.2  3.5  1.5  0.2]\n",
        " [ 5.2  3.4  1.4  0.2]\n",
        " [ 4.7  3.2  1.6  0.2]\n",
        " [ 4.8  3.1  1.6  0.2]\n",
        " [ 5.4  3.4  1.5  0.4]\n",
        " [ 5.2  4.1  1.5  0.1]\n",
        " [ 5.5  4.2  1.4  0.2]\n",
        " [ 4.9  3.1  1.5  0.1]\n",
        " [ 5.   3.2  1.2  0.2]\n",
        " [ 5.5  3.5  1.3  0.2]\n",
        " [ 4.9  3.1  1.5  0.1]\n",
        " [ 4.4  3.   1.3  0.2]\n",
        " [ 5.1  3.4  1.5  0.2]\n",
        " [ 5.   3.5  1.3  0.3]\n",
        " [ 4.5  2.3  1.3  0.3]\n",
        " [ 4.4  3.2  1.3  0.2]\n",
        " [ 5.   3.5  1.6  0.6]\n",
        " [ 5.1  3.8  1.9  0.4]\n",
        " [ 4.8  3.   1.4  0.3]\n",
        " [ 5.1  3.8  1.6  0.2]\n",
        " [ 4.6  3.2  1.4  0.2]\n",
        " [ 5.3  3.7  1.5  0.2]\n",
        " [ 5.   3.3  1.4  0.2]\n",
        " [ 7.   3.2  4.7  1.4]\n",
        " [ 6.4  3.2  4.5  1.5]\n",
        " [ 6.9  3.1  4.9  1.5]\n",
        " [ 5.5  2.3  4.   1.3]\n",
        " [ 6.5  2.8  4.6  1.5]\n",
        " [ 5.7  2.8  4.5  1.3]\n",
        " [ 6.3  3.3  4.7  1.6]\n",
        " [ 4.9  2.4  3.3  1. ]\n",
        " [ 6.6  2.9  4.6  1.3]\n",
        " [ 5.2  2.7  3.9  1.4]\n",
        " [ 5.   2.   3.5  1. ]\n",
        " [ 5.9  3.   4.2  1.5]\n",
        " [ 6.   2.2  4.   1. ]\n",
        " [ 6.1  2.9  4.7  1.4]\n",
        " [ 5.6  2.9  3.6  1.3]\n",
        " [ 6.7  3.1  4.4  1.4]\n",
        " [ 5.6  3.   4.5  1.5]\n",
        " [ 5.8  2.7  4.1  1. ]\n",
        " [ 6.2  2.2  4.5  1.5]\n",
        " [ 5.6  2.5  3.9  1.1]\n",
        " [ 5.9  3.2  4.8  1.8]\n",
        " [ 6.1  2.8  4.   1.3]\n",
        " [ 6.3  2.5  4.9  1.5]\n",
        " [ 6.1  2.8  4.7  1.2]\n",
        " [ 6.4  2.9  4.3  1.3]\n",
        " [ 6.6  3.   4.4  1.4]\n",
        " [ 6.8  2.8  4.8  1.4]\n",
        " [ 6.7  3.   5.   1.7]\n",
        " [ 6.   2.9  4.5  1.5]\n",
        " [ 5.7  2.6  3.5  1. ]\n",
        " [ 5.5  2.4  3.8  1.1]\n",
        " [ 5.5  2.4  3.7  1. ]\n",
        " [ 5.8  2.7  3.9  1.2]\n",
        " [ 6.   2.7  5.1  1.6]\n",
        " [ 5.4  3.   4.5  1.5]\n",
        " [ 6.   3.4  4.5  1.6]\n",
        " [ 6.7  3.1  4.7  1.5]\n",
        " [ 6.3  2.3  4.4  1.3]\n",
        " [ 5.6  3.   4.1  1.3]\n",
        " [ 5.5  2.5  4.   1.3]\n",
        " [ 5.5  2.6  4.4  1.2]\n",
        " [ 6.1  3.   4.6  1.4]\n",
        " [ 5.8  2.6  4.   1.2]\n",
        " [ 5.   2.3  3.3  1. ]\n",
        " [ 5.6  2.7  4.2  1.3]\n",
        " [ 5.7  3.   4.2  1.2]\n",
        " [ 5.7  2.9  4.2  1.3]\n",
        " [ 6.2  2.9  4.3  1.3]\n",
        " [ 5.1  2.5  3.   1.1]\n",
        " [ 5.7  2.8  4.1  1.3]\n",
        " [ 6.3  3.3  6.   2.5]\n",
        " [ 5.8  2.7  5.1  1.9]\n",
        " [ 7.1  3.   5.9  2.1]\n",
        " [ 6.3  2.9  5.6  1.8]\n",
        " [ 6.5  3.   5.8  2.2]\n",
        " [ 7.6  3.   6.6  2.1]\n",
        " [ 4.9  2.5  4.5  1.7]\n",
        " [ 7.3  2.9  6.3  1.8]\n",
        " [ 6.7  2.5  5.8  1.8]\n",
        " [ 7.2  3.6  6.1  2.5]\n",
        " [ 6.5  3.2  5.1  2. ]\n",
        " [ 6.4  2.7  5.3  1.9]\n",
        " [ 6.8  3.   5.5  2.1]\n",
        " [ 5.7  2.5  5.   2. ]\n",
        " [ 5.8  2.8  5.1  2.4]\n",
        " [ 6.4  3.2  5.3  2.3]\n",
        " [ 6.5  3.   5.5  1.8]\n",
        " [ 7.7  3.8  6.7  2.2]\n",
        " [ 7.7  2.6  6.9  2.3]\n",
        " [ 6.   2.2  5.   1.5]\n",
        " [ 6.9  3.2  5.7  2.3]\n",
        " [ 5.6  2.8  4.9  2. ]\n",
        " [ 7.7  2.8  6.7  2. ]\n",
        " [ 6.3  2.7  4.9  1.8]\n",
        " [ 6.7  3.3  5.7  2.1]\n",
        " [ 7.2  3.2  6.   1.8]\n",
        " [ 6.2  2.8  4.8  1.8]\n",
        " [ 6.1  3.   4.9  1.8]\n",
        " [ 6.4  2.8  5.6  2.1]\n",
        " [ 7.2  3.   5.8  1.6]\n",
        " [ 7.4  2.8  6.1  1.9]\n",
        " [ 7.9  3.8  6.4  2. ]\n",
        " [ 6.4  2.8  5.6  2.2]\n",
        " [ 6.3  2.8  5.1  1.5]\n",
        " [ 6.1  2.6  5.6  1.4]\n",
        " [ 7.7  3.   6.1  2.3]\n",
        " [ 6.3  3.4  5.6  2.4]\n",
        " [ 6.4  3.1  5.5  1.8]\n",
        " [ 6.   3.   4.8  1.8]\n",
        " [ 6.9  3.1  5.4  2.1]\n",
        " [ 6.7  3.1  5.6  2.4]\n",
        " [ 6.9  3.1  5.1  2.3]\n",
        " [ 5.8  2.7  5.1  1.9]\n",
        " [ 6.8  3.2  5.9  2.3]\n",
        " [ 6.7  3.3  5.7  2.5]\n",
        " [ 6.7  3.   5.2  2.3]\n",
        " [ 6.3  2.5  5.   1.9]\n",
        " [ 6.5  3.   5.2  2. ]\n",
        " [ 6.2  3.4  5.4  2.3]\n",
        " [ 5.9  3.   5.1  1.8]]\n"
       ]
      }
     ],
     "prompt_number": 4
    },
    {
     "cell_type": "markdown",
     "metadata": {},
     "source": [
      "Machine learning terminology: \n",
      "    - Each row is an observation \n",
      "    - each column is a feature. "
     ]
    },
    {
     "cell_type": "code",
     "collapsed": false,
     "input": [
      "# print the names of the four features\n",
      "print iris.feature_names"
     ],
     "language": "python",
     "metadata": {},
     "outputs": [
      {
       "output_type": "stream",
       "stream": "stdout",
       "text": [
        "['sepal length (cm)', 'sepal width (cm)', 'petal length (cm)', 'petal width (cm)']\n"
       ]
      }
     ],
     "prompt_number": 6
    },
    {
     "cell_type": "code",
     "collapsed": false,
     "input": [
      "print iris.target"
     ],
     "language": "python",
     "metadata": {},
     "outputs": [
      {
       "output_type": "stream",
       "stream": "stdout",
       "text": [
        "[0 0 0 0 0 0 0 0 0 0 0 0 0 0 0 0 0 0 0 0 0 0 0 0 0 0 0 0 0 0 0 0 0 0 0 0 0\n",
        " 0 0 0 0 0 0 0 0 0 0 0 0 0 1 1 1 1 1 1 1 1 1 1 1 1 1 1 1 1 1 1 1 1 1 1 1 1\n",
        " 1 1 1 1 1 1 1 1 1 1 1 1 1 1 1 1 1 1 1 1 1 1 1 1 1 1 2 2 2 2 2 2 2 2 2 2 2\n",
        " 2 2 2 2 2 2 2 2 2 2 2 2 2 2 2 2 2 2 2 2 2 2 2 2 2 2 2 2 2 2 2 2 2 2 2 2 2\n",
        " 2 2]\n"
       ]
      }
     ],
     "prompt_number": 7
    },
    {
     "cell_type": "code",
     "collapsed": false,
     "input": [
      "print iris.target_names"
     ],
     "language": "python",
     "metadata": {},
     "outputs": [
      {
       "output_type": "stream",
       "stream": "stdout",
       "text": [
        "['setosa' 'versicolor' 'virginica']\n"
       ]
      }
     ],
     "prompt_number": 8
    },
    {
     "cell_type": "markdown",
     "metadata": {},
     "source": [
      "each value we are predicting is the response "
     ]
    },
    {
     "cell_type": "markdown",
     "metadata": {},
     "source": [
      "- Classification is supervised learning in which the response is categorical. \n",
      "- Regression is supervised learning in which  the response is ordered and continuous. "
     ]
    },
    {
     "cell_type": "heading",
     "level": 3,
     "metadata": {},
     "source": [
      "Requirements for working with data in scikit-learn"
     ]
    },
    {
     "cell_type": "markdown",
     "metadata": {},
     "source": [
      "- Features and response are separate objects \n",
      "- Features and response should be numeric \n",
      "- Features and response should be NumPy arrays. \n",
      "- Features and response should have specific shapes. \n"
     ]
    },
    {
     "cell_type": "code",
     "collapsed": false,
     "input": [
      "print type(iris.data)\n",
      "print type(iris.target)"
     ],
     "language": "python",
     "metadata": {},
     "outputs": [
      {
       "output_type": "stream",
       "stream": "stdout",
       "text": [
        "<type 'numpy.ndarray'>\n",
        "<type 'numpy.ndarray'>\n"
       ]
      }
     ],
     "prompt_number": 9
    },
    {
     "cell_type": "code",
     "collapsed": false,
     "input": [
      "# check the shape of the features (first dimension = number of observations, second dimensions = number of features)\n",
      "print iris.data.shape"
     ],
     "language": "python",
     "metadata": {},
     "outputs": [
      {
       "output_type": "stream",
       "stream": "stdout",
       "text": [
        "(150L, 4L)\n"
       ]
      }
     ],
     "prompt_number": 10
    },
    {
     "cell_type": "code",
     "collapsed": false,
     "input": [
      "# check the shape of the response (single dimension matching the number of observations)\n",
      "print iris.target.shape"
     ],
     "language": "python",
     "metadata": {},
     "outputs": [
      {
       "output_type": "stream",
       "stream": "stdout",
       "text": [
        "(150L,)\n"
       ]
      }
     ],
     "prompt_number": 11
    },
    {
     "cell_type": "code",
     "collapsed": false,
     "input": [
      "# store feature matrix in \"X\"\n",
      "X = iris.data \n",
      "\n",
      "# store response vector in \"y\" \n",
      "y = iris.target "
     ],
     "language": "python",
     "metadata": {},
     "outputs": [],
     "prompt_number": 12
    }
   ],
   "metadata": {}
  }
 ]
}